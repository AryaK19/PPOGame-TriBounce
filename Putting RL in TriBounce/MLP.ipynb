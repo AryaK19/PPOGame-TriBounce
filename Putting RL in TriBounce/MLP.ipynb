{
 "cells": [
  {
   "cell_type": "code",
   "execution_count": 1,
   "metadata": {},
   "outputs": [
    {
     "name": "stdout",
     "output_type": "stream",
     "text": [
      "pygame 2.5.0 (SDL 2.28.0, Python 3.11.4)\n",
      "Hello from the pygame community. https://www.pygame.org/contribute.html\n"
     ]
    }
   ],
   "source": [
    "\n",
    "from GameForML import Tribounce\n",
    "from gymnasium import Env\n",
    "from gymnasium.spaces import Discrete,Box\n",
    "\n",
    "from stable_baselines3 import PPO\n",
    "from stable_baselines3.common.vec_env import DummyVecEnv\n",
    "from stable_baselines3.common.evaluation import evaluate_policy\n",
    "\n",
    "import os\n",
    "import numpy as np\n"
   ]
  },
  {
   "cell_type": "code",
   "execution_count": 2,
   "metadata": {},
   "outputs": [],
   "source": [
    "class TribounceEnv(Env):\n",
    "    def __init__(self,render=False):\n",
    "        super().__init__()\n",
    "        self.game = Tribounce(render=render)\n",
    "\n",
    "        self.observation_space = Box(low=0,high=self.game.width-29,shape=[3,2],dtype=np.float64)\n",
    "        self.action_space = Discrete(3)\n",
    "\n",
    "    def step(self,action):\n",
    "        state,reward,done,info = self.game.run(action=action)\n",
    "        t = False\n",
    "        return state,reward,t,done,info\n",
    "    def render(self):\n",
    "        pass\n",
    "    \n",
    "    def reset(self,seed=0):\n",
    "        state = self.game.reset()\n",
    "        info={}\n",
    "        return state,info\n",
    "    \n",
    "    def close(self):\n",
    "        self.game.close()\n",
    "\n"
   ]
  },
  {
   "cell_type": "code",
   "execution_count": 3,
   "metadata": {},
   "outputs": [],
   "source": [
    "from stable_baselines3.common import env_checker"
   ]
  },
  {
   "cell_type": "code",
   "execution_count": 4,
   "metadata": {},
   "outputs": [
    {
     "name": "stderr",
     "output_type": "stream",
     "text": [
      "c:\\Users\\arya2\\AppData\\Local\\Programs\\Python\\Python311\\Lib\\site-packages\\stable_baselines3\\common\\env_checker.py:238: UserWarning: Your observation  has an unconventional shape (neither an image, nor a 1D vector). We recommend you to flatten the observation to have only a 1D vector or use a custom policy to properly process the data.\n",
      "  warnings.warn(\n"
     ]
    }
   ],
   "source": [
    "env = TribounceEnv()\n",
    "env_checker.check_env(env)\n"
   ]
  },
  {
   "cell_type": "code",
   "execution_count": 9,
   "metadata": {},
   "outputs": [
    {
     "data": {
      "text/plain": [
       "array([[506., 401.],\n",
       "       [  0.,   0.],\n",
       "       [  0.,   0.]])"
      ]
     },
     "execution_count": 9,
     "metadata": {},
     "output_type": "execute_result"
    }
   ],
   "source": [
    "state = env.step(2)[0]\n",
    "state"
   ]
  },
  {
   "cell_type": "code",
   "execution_count": 10,
   "metadata": {},
   "outputs": [
    {
     "name": "stdout",
     "output_type": "stream",
     "text": [
      "Episode:(1) Score:(5) Reward:(-27)\n"
     ]
    }
   ],
   "source": [
    "episodes = 1\n",
    "env = TribounceEnv(render=True)\n",
    "for episode in range(1,episodes+1):\n",
    "    state,_ = env.reset()\n",
    "    done = False\n",
    "    while not done:\n",
    "        action = Discrete(3).sample()\n",
    "        state,reward,t,done,info = env.step(action=action)\n",
    "\n",
    "    print(f\"Episode:({episode}) Score:({info['score']}) Reward:({reward})\")\n",
    "env.close()"
   ]
  },
  {
   "cell_type": "code",
   "execution_count": 11,
   "metadata": {},
   "outputs": [
    {
     "data": {
      "text/plain": [
       "0"
      ]
     },
     "execution_count": 11,
     "metadata": {},
     "output_type": "execute_result"
    }
   ],
   "source": [
    "action = Discrete(3)\n",
    "action.sample()"
   ]
  },
  {
   "cell_type": "code",
   "execution_count": 16,
   "metadata": {},
   "outputs": [
    {
     "name": "stdout",
     "output_type": "stream",
     "text": [
      "Using cuda device\n",
      "Wrapping the env with a `Monitor` wrapper\n",
      "Wrapping the env in a DummyVecEnv.\n"
     ]
    }
   ],
   "source": [
    "env = TribounceEnv()\n",
    "# env = DummyVecEnv([lambda:env])\n",
    "log_path = os.path.join(\"Training\",\"Logs\")\n",
    "model = PPO(\"MlpPolicy\",env,learning_rate=0.0002,n_steps=2048,verbose=1,tensorboard_log=log_path)\n"
   ]
  },
  {
   "cell_type": "code",
   "execution_count": 3,
   "metadata": {},
   "outputs": [
    {
     "ename": "NameError",
     "evalue": "name 'model' is not defined",
     "output_type": "error",
     "traceback": [
      "\u001b[1;31m---------------------------------------------------------------------------\u001b[0m",
      "\u001b[1;31mNameError\u001b[0m                                 Traceback (most recent call last)",
      "Cell \u001b[1;32mIn[3], line 1\u001b[0m\n\u001b[1;32m----> 1\u001b[0m model\u001b[39m.\u001b[39mlearn(total_timesteps\u001b[39m=\u001b[39m\u001b[39m150000\u001b[39m)\n",
      "\u001b[1;31mNameError\u001b[0m: name 'model' is not defined"
     ]
    }
   ],
   "source": [
    "model.learn(total_timesteps=150000)"
   ]
  },
  {
   "cell_type": "code",
   "execution_count": 3,
   "metadata": {},
   "outputs": [
    {
     "name": "stderr",
     "output_type": "stream",
     "text": [
      "\n",
      "KeyboardInterrupt\n",
      "\n"
     ]
    }
   ],
   "source": [
    "save_path = os.path.join(\"Training\",'Saved Models',\"200k_Rewardh\")\n",
    "model.save(save_path)\n"
   ]
  },
  {
   "cell_type": "code",
   "execution_count": 3,
   "metadata": {},
   "outputs": [],
   "source": [
    "model = PPO.load(\"Training\\Saved Models\\\\200k_Reward.zip\")"
   ]
  },
  {
   "cell_type": "code",
   "execution_count": 5,
   "metadata": {},
   "outputs": [],
   "source": [
    "\n",
    "env= TribounceEnv(render=True)\n",
    "evaluate_policy(model,env,n_eval_episodes=2)\n",
    "env.close()"
   ]
  },
  {
   "cell_type": "code",
   "execution_count": null,
   "metadata": {},
   "outputs": [],
   "source": []
  },
  {
   "cell_type": "code",
   "execution_count": 4,
   "metadata": {},
   "outputs": [
    {
     "name": "stdout",
     "output_type": "stream",
     "text": [
      "Episode:(1) Score:(3) Reward:(-33)\n",
      "Episode:(2) Score:(3) Reward:(-29)\n",
      "Episode:(3) Score:(3) Reward:(-29)\n",
      "Episode:(4) Score:(3) Reward:(-29)\n",
      "Episode:(5) Score:(6) Reward:(0)\n"
     ]
    }
   ],
   "source": [
    "episodes = 5\n",
    "env = TribounceEnv()\n",
    "for episode in range(1,episodes+1):\n",
    "    state,_ = env.reset()\n",
    "    done = False\n",
    "    while not done:\n",
    "        action,_ = model.predict(state)\n",
    "        state,reward,_,done,info = env.step(action=action)\n",
    "    print(f\"Episode:({episode}) Score:({info['score']}) Reward:({reward})\")\n",
    "env.close()"
   ]
  },
  {
   "cell_type": "code",
   "execution_count": 7,
   "metadata": {},
   "outputs": [],
   "source": [
    "env.close()"
   ]
  }
 ],
 "metadata": {
  "kernelspec": {
   "display_name": "Python 3",
   "language": "python",
   "name": "python3"
  },
  "language_info": {
   "codemirror_mode": {
    "name": "ipython",
    "version": 3
   },
   "file_extension": ".py",
   "mimetype": "text/x-python",
   "name": "python",
   "nbconvert_exporter": "python",
   "pygments_lexer": "ipython3",
   "version": "3.11.4"
  },
  "orig_nbformat": 4
 },
 "nbformat": 4,
 "nbformat_minor": 2
}
